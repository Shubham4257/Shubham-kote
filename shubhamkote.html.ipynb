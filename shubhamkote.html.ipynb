{
 "cells": [
  {
   "cell_type": "code",
   "execution_count": 2,
   "metadata": {},
   "outputs": [],
   "source": [
    "import os\n",
    "os.environ['PYSPARK_DRIVER_PYTHON'] = '/opt/anaconda3/bin/python3.7'\n",
    "os.environ['PYSPARK_PYTHON'] = '/opt/anaconda3/bin/python3.7'\n",
    "os.environ[\"SPARK_HOME\"] = '/opt/cloudera/parcels/CDH/lib/spark'\n",
    "import findspark\n",
    "findspark.init()\n",
    "from pyspark import SparkContext , SparkConf\n",
    "from pyspark.sql import SparkSession,SQLContext,Row\n",
    "\n",
    "from pyspark.streaming import StreamingContext"
   ]
  },
  {
   "cell_type": "code",
   "execution_count": 3,
   "metadata": {},
   "outputs": [],
   "source": [
    "sc = SparkContext.getOrCreate()\n",
    "spark = SparkSession.builder.appName(\"Pysparkdf\").getOrCreate()"
   ]
  },
  {
   "cell_type": "markdown",
   "metadata": {},
   "source": [
    "1.Load moves.csv and cache the dataframe"
   ]
  },
  {
   "cell_type": "code",
   "execution_count": 4,
   "metadata": {},
   "outputs": [],
   "source": [
    "movies_df=spark.read.csv(\"movies.csv\",sep=',',inferSchema=True,header=True)"
   ]
  },
  {
   "cell_type": "code",
   "execution_count": 8,
   "metadata": {},
   "outputs": [
    {
     "data": {
      "text/plain": [
       "DataFrame[movieId: int, title: string, genres: string]"
      ]
     },
     "execution_count": 8,
     "metadata": {},
     "output_type": "execute_result"
    }
   ],
   "source": [
    "movies_df.persist()"
   ]
  },
  {
   "cell_type": "code",
   "execution_count": 17,
   "metadata": {},
   "outputs": [
    {
     "name": "stdout",
     "output_type": "stream",
     "text": [
      "+-------+--------------------+--------------------+\n",
      "|movieId|               title|              genres|\n",
      "+-------+--------------------+--------------------+\n",
      "|      1|    Toy Story (1995)|Adventure|Animati...|\n",
      "|      2|      Jumanji (1995)|Adventure|Childre...|\n",
      "|      3|Grumpier Old Men ...|      Comedy|Romance|\n",
      "|      4|Waiting to Exhale...|Comedy|Drama|Romance|\n",
      "|      5|Father of the Bri...|              Comedy|\n",
      "|      6|         Heat (1995)|Action|Crime|Thri...|\n",
      "|      7|      Sabrina (1995)|      Comedy|Romance|\n",
      "|      8| Tom and Huck (1995)|  Adventure|Children|\n",
      "|      9| Sudden Death (1995)|              Action|\n",
      "|     10|    GoldenEye (1995)|Action|Adventure|...|\n",
      "|     11|American Presiden...|Comedy|Drama|Romance|\n",
      "|     12|Dracula: Dead and...|       Comedy|Horror|\n",
      "|     13|        Balto (1995)|Adventure|Animati...|\n",
      "|     14|        Nixon (1995)|               Drama|\n",
      "|     15|Cutthroat Island ...|Action|Adventure|...|\n",
      "|     16|       Casino (1995)|         Crime|Drama|\n",
      "|     17|Sense and Sensibi...|       Drama|Romance|\n",
      "|     18|   Four Rooms (1995)|              Comedy|\n",
      "|     19|Ace Ventura: When...|              Comedy|\n",
      "|     20|  Money Train (1995)|Action|Comedy|Cri...|\n",
      "+-------+--------------------+--------------------+\n",
      "only showing top 20 rows\n",
      "\n"
     ]
    }
   ],
   "source": [
    "movies_df.show()"
   ]
  },
  {
   "cell_type": "markdown",
   "metadata": {},
   "source": [
    "2.Load ratings.csv and cache the dataframe"
   ]
  },
  {
   "cell_type": "code",
   "execution_count": 9,
   "metadata": {},
   "outputs": [],
   "source": [
    "ratings_df=spark.read.csv(\"ratings.csv\",sep=',',inferSchema=True,header=True)"
   ]
  },
  {
   "cell_type": "code",
   "execution_count": 10,
   "metadata": {},
   "outputs": [
    {
     "data": {
      "text/plain": [
       "DataFrame[userId: int, movieId: int, rating: double, timestamp: int]"
      ]
     },
     "execution_count": 10,
     "metadata": {},
     "output_type": "execute_result"
    }
   ],
   "source": [
    "ratings_df.persist()"
   ]
  },
  {
   "cell_type": "code",
   "execution_count": 11,
   "metadata": {},
   "outputs": [
    {
     "name": "stdout",
     "output_type": "stream",
     "text": [
      "+------+-------+------+---------+\n",
      "|userId|movieId|rating|timestamp|\n",
      "+------+-------+------+---------+\n",
      "|     1|      1|   4.0|964982703|\n",
      "|     1|      3|   4.0|964981247|\n",
      "|     1|      6|   4.0|964982224|\n",
      "|     1|     47|   5.0|964983815|\n",
      "|     1|     50|   5.0|964982931|\n",
      "|     1|     70|   3.0|964982400|\n",
      "|     1|    101|   5.0|964980868|\n",
      "|     1|    110|   4.0|964982176|\n",
      "|     1|    151|   5.0|964984041|\n",
      "|     1|    157|   5.0|964984100|\n",
      "|     1|    163|   5.0|964983650|\n",
      "|     1|    216|   5.0|964981208|\n",
      "|     1|    223|   3.0|964980985|\n",
      "|     1|    231|   5.0|964981179|\n",
      "|     1|    235|   4.0|964980908|\n",
      "|     1|    260|   5.0|964981680|\n",
      "|     1|    296|   3.0|964982967|\n",
      "|     1|    316|   3.0|964982310|\n",
      "|     1|    333|   5.0|964981179|\n",
      "|     1|    349|   4.0|964982563|\n",
      "+------+-------+------+---------+\n",
      "only showing top 20 rows\n",
      "\n"
     ]
    }
   ],
   "source": [
    "ratings_df.show()"
   ]
  },
  {
   "cell_type": "markdown",
   "metadata": {},
   "source": [
    "3.Find the number of records in movies dataframe"
   ]
  },
  {
   "cell_type": "code",
   "execution_count": 15,
   "metadata": {},
   "outputs": [
    {
     "data": {
      "text/plain": [
       "9742"
      ]
     },
     "execution_count": 15,
     "metadata": {},
     "output_type": "execute_result"
    }
   ],
   "source": [
    "movies_df.count()"
   ]
  },
  {
   "cell_type": "markdown",
   "metadata": {},
   "source": [
    "4.Find the number of records in ratings dataframe"
   ]
  },
  {
   "cell_type": "code",
   "execution_count": 16,
   "metadata": {},
   "outputs": [
    {
     "data": {
      "text/plain": [
       "100836"
      ]
     },
     "execution_count": 16,
     "metadata": {},
     "output_type": "execute_result"
    }
   ],
   "source": [
    "ratings_df.count()"
   ]
  },
  {
   "cell_type": "code",
   "execution_count": 23,
   "metadata": {},
   "outputs": [
    {
     "name": "stdout",
     "output_type": "stream",
     "text": [
      "+------+\n",
      "|userId|\n",
      "+------+\n",
      "|   148|\n",
      "|   463|\n",
      "|   471|\n",
      "|   496|\n",
      "|   243|\n",
      "|   392|\n",
      "|   540|\n",
      "|    31|\n",
      "|   516|\n",
      "|    85|\n",
      "|   137|\n",
      "|   251|\n",
      "|   451|\n",
      "|   580|\n",
      "|    65|\n",
      "|   458|\n",
      "|    53|\n",
      "|   255|\n",
      "|   481|\n",
      "|   588|\n",
      "+------+\n",
      "only showing top 20 rows\n",
      "\n"
     ]
    }
   ],
   "source": [
    "ratings_df.select(\"userId\").distinct().show()"
   ]
  },
  {
   "cell_type": "code",
   "execution_count": 26,
   "metadata": {},
   "outputs": [],
   "source": [
    "movies_df.createOrReplaceTempView(\"Movies\")\n",
    "ratings_df.createOrReplaceTempView(\"Ratings\")"
   ]
  },
  {
   "cell_type": "code",
   "execution_count": 27,
   "metadata": {},
   "outputs": [],
   "source": [
    "Comb = spark.sql(\"SELECT * from Ratings inner join Movies on Ratings.userId=Movies.movieId \")"
   ]
  },
  {
   "cell_type": "code",
   "execution_count": 28,
   "metadata": {},
   "outputs": [
    {
     "name": "stdout",
     "output_type": "stream",
     "text": [
      "+------+-------+------+---------+-------+----------------+--------------------+\n",
      "|userId|movieId|rating|timestamp|movieId|           title|              genres|\n",
      "+------+-------+------+---------+-------+----------------+--------------------+\n",
      "|     1|      1|   4.0|964982703|      1|Toy Story (1995)|Adventure|Animati...|\n",
      "|     1|      3|   4.0|964981247|      1|Toy Story (1995)|Adventure|Animati...|\n",
      "|     1|      6|   4.0|964982224|      1|Toy Story (1995)|Adventure|Animati...|\n",
      "|     1|     47|   5.0|964983815|      1|Toy Story (1995)|Adventure|Animati...|\n",
      "|     1|     50|   5.0|964982931|      1|Toy Story (1995)|Adventure|Animati...|\n",
      "|     1|     70|   3.0|964982400|      1|Toy Story (1995)|Adventure|Animati...|\n",
      "|     1|    101|   5.0|964980868|      1|Toy Story (1995)|Adventure|Animati...|\n",
      "|     1|    110|   4.0|964982176|      1|Toy Story (1995)|Adventure|Animati...|\n",
      "|     1|    151|   5.0|964984041|      1|Toy Story (1995)|Adventure|Animati...|\n",
      "|     1|    157|   5.0|964984100|      1|Toy Story (1995)|Adventure|Animati...|\n",
      "|     1|    163|   5.0|964983650|      1|Toy Story (1995)|Adventure|Animati...|\n",
      "|     1|    216|   5.0|964981208|      1|Toy Story (1995)|Adventure|Animati...|\n",
      "|     1|    223|   3.0|964980985|      1|Toy Story (1995)|Adventure|Animati...|\n",
      "|     1|    231|   5.0|964981179|      1|Toy Story (1995)|Adventure|Animati...|\n",
      "|     1|    235|   4.0|964980908|      1|Toy Story (1995)|Adventure|Animati...|\n",
      "|     1|    260|   5.0|964981680|      1|Toy Story (1995)|Adventure|Animati...|\n",
      "|     1|    296|   3.0|964982967|      1|Toy Story (1995)|Adventure|Animati...|\n",
      "|     1|    316|   3.0|964982310|      1|Toy Story (1995)|Adventure|Animati...|\n",
      "|     1|    333|   5.0|964981179|      1|Toy Story (1995)|Adventure|Animati...|\n",
      "|     1|    349|   4.0|964982563|      1|Toy Story (1995)|Adventure|Animati...|\n",
      "+------+-------+------+---------+-------+----------------+--------------------+\n",
      "only showing top 20 rows\n",
      "\n"
     ]
    }
   ],
   "source": [
    "Comb.show()"
   ]
  },
  {
   "cell_type": "code",
   "execution_count": 43,
   "metadata": {},
   "outputs": [
    {
     "name": "stdout",
     "output_type": "stream",
     "text": [
      "+-----------+--------+\n",
      "|avg(rating)|count(1)|\n",
      "+-----------+--------+\n",
      "|        2.5|       1|\n",
      "|        4.5|       1|\n",
      "|        3.0|       1|\n",
      "|        4.0|       1|\n",
      "|        3.0|       1|\n",
      "|        3.5|       1|\n",
      "|        4.0|       2|\n",
      "|        3.0|       1|\n",
      "|        5.0|       1|\n",
      "|        2.0|       1|\n",
      "+-----------+--------+\n",
      "\n"
     ]
    }
   ],
   "source": [
    "spark.sql(\"SELECT avg(rating),count(*) from Rating group by movieId  \").show()"
   ]
  },
  {
   "cell_type": "code",
   "execution_count": 47,
   "metadata": {},
   "outputs": [
    {
     "name": "stdout",
     "output_type": "stream",
     "text": [
      "+-----------+\n",
      "|max(rating)|\n",
      "+-----------+\n",
      "|        5.0|\n",
      "|        5.0|\n",
      "|        5.0|\n",
      "|        5.0|\n",
      "|        5.0|\n",
      "|        4.5|\n",
      "|        4.5|\n",
      "|        5.0|\n",
      "|        4.0|\n",
      "|        5.0|\n",
      "|        5.0|\n",
      "|        4.0|\n",
      "|        3.5|\n",
      "|        5.0|\n",
      "|        3.0|\n",
      "|        4.0|\n",
      "|        5.0|\n",
      "|        4.5|\n",
      "|        5.0|\n",
      "|        4.5|\n",
      "+-----------+\n",
      "only showing top 20 rows\n",
      "\n"
     ]
    }
   ],
   "source": [
    "spark.sql(\"SELECT max(rating) from Ratings group by movieId \").show()"
   ]
  },
  {
   "cell_type": "code",
   "execution_count": null,
   "metadata": {},
   "outputs": [],
   "source": [
    "spark.sql(\"SELECT movieId,avg(rating),count(rating) from Ratings\")"
   ]
  },
  {
   "cell_type": "code",
   "execution_count": null,
   "metadata": {},
   "outputs": [],
   "source": []
  }
 ],
 "metadata": {
  "kernelspec": {
   "display_name": "Python 3",
   "language": "python",
   "name": "python3"
  },
  "language_info": {
   "codemirror_mode": {
    "name": "ipython",
    "version": 3
   },
   "file_extension": ".py",
   "mimetype": "text/x-python",
   "name": "python",
   "nbconvert_exporter": "python",
   "pygments_lexer": "ipython3",
   "version": "3.7.6"
  }
 },
 "nbformat": 4,
 "nbformat_minor": 4
}
